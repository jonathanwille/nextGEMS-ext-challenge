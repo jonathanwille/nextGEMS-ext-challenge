{
 "cells": [
  {
   "cell_type": "markdown",
   "id": "7dd0bad9-62dc-48ec-a391-143efbac308d",
   "metadata": {
    "tags": []
   },
   "source": [
    "## Imports"
   ]
  },
  {
   "cell_type": "code",
   "execution_count": null,
   "id": "2959fc75-6941-49df-9371-fc846afb7f15",
   "metadata": {},
   "outputs": [],
   "source": [
    "import xarray as xr\n",
    "import netCDF4 as nc\n",
    "import pandas as pd\n",
    "\n",
    "import matplotlib.pylab as plt\n",
    "import numpy as np\n",
    "import matplotlib.cm as cm\n",
    "import cmocean.cm as cmo\n",
    "\n",
    "\n",
    "import numcodecs\n",
    "import scipy.stats as stats\n",
    "\n",
    "from getpass import getuser # Libaray to copy things\n",
    "from pathlib import Path # Object oriented libary to deal with paths\n",
    "from dask.utils import format_bytes\n",
    "from distributed import Client, progress, wait # Libaray to orchestrate distributed resources\n",
    "#from dask_jobqueue import SLURMCluster # Setting up distributed memories via slurm\n",
    "import numpy as np # Pythons standard array library\n",
    "\n",
    "import dask.distributed\n",
    "import multiprocessing\n",
    "from subprocess import run, PIPE\n",
    "import sys\n",
    "import os\n",
    "import matplotlib.ticker as ticker"
   ]
  },
  {
   "cell_type": "code",
   "execution_count": null,
   "id": "30433415-e5f1-428e-ae1f-0f65e4b63595",
   "metadata": {},
   "outputs": [],
   "source": [
    "from matplotlib.ticker import (MultipleLocator, FormatStrFormatter, AutoMinorLocator)\n",
    "from matplotlib import pyplot as plt # Standard Plotting library\n",
    "from matplotlib import cm\n",
    "from matplotlib.colors import ListedColormap, LinearSegmentedColormap\n",
    "from matplotlib.ticker import (MultipleLocator, FormatStrFormatter, AutoMinorLocator)\n",
    "from cartopy import crs as ccrs # Cartography library\n",
    "from cartopy.mpl.ticker import LongitudeFormatter, LatitudeFormatter\n",
    "import cartopy.feature as cfeature\n",
    "import matplotlib.ticker as mticker\n",
    "import matplotlib.tri as tri"
   ]
  },
  {
   "cell_type": "code",
   "execution_count": null,
   "id": "af5717a0-51ac-4c1b-b047-f0a7e5563a96",
   "metadata": {},
   "outputs": [],
   "source": [
    "#'''Provides information about the CPU and starts the dask client'''\n",
    "ncpu = multiprocessing.cpu_count()\n",
    "processes = False\n",
    "nworker = 1\n",
    "threads = ncpu // nworker\n",
    "print(f\"Number of CPUs: {ncpu}, number of threads: {threads}, number of workers: {nworker}, processes: {processes}\")\n",
    "client = Client(processes=processes,\n",
    " threads_per_worker=threads,\n",
    " n_workers=nworker,\n",
    " memory_limit='500GB'\n",
    " )"
   ]
  },
  {
   "cell_type": "code",
   "execution_count": null,
   "id": "a205f2c2-1bc2-48b3-aee3-5926df0c5cf6",
   "metadata": {},
   "outputs": [],
   "source": [
    "client"
   ]
  },
  {
   "cell_type": "code",
   "execution_count": null,
   "id": "d18375d4-c2e8-457a-9709-f87a8eaf7731",
   "metadata": {},
   "outputs": [],
   "source": [
    "month = \"annual\"\n",
    "\n",
    "if month == 'DJF':\n",
    "    months = [12,1,2]\n",
    "elif month == 'MAM':\n",
    "    months = [3,4,5]\n",
    "elif month == 'JJA':\n",
    "    months = [6,7,8]\n",
    "elif month == 'SON':\n",
    "    months = [9,10,11]\n",
    "elif month == 'annual':\n",
    "    months = []    \n",
    "\n",
    "latitude = [35,45]\n",
    "longitude = [-10,35.5]"
   ]
  },
  {
   "cell_type": "markdown",
   "id": "5d36f251-6b73-4701-80ec-a9908fa4c94f",
   "metadata": {
    "tags": []
   },
   "source": [
    "## CESM2"
   ]
  },
  {
   "cell_type": "markdown",
   "id": "1bb45703-ecce-40e7-812b-c455a0bdd102",
   "metadata": {},
   "source": [
    "cmip_fr"
   ]
  },
  {
   "cell_type": "code",
   "execution_count": null,
   "id": "30506594-9c05-41db-9044-c113da769a24",
   "metadata": {},
   "outputs": [],
   "source": [
    "data_path = Path('/home/jwille/xenon_data/NextGEMS/CESM2/precip/24H')\n",
    "files = sorted([str(f) for f in data_path.glob(f'24hr_b.e21.BHISTsmbb*.nc')])[:]\n",
    "dataset = xr.open_mfdataset(files, engine='netcdf4',combine='by_coords')['PRECT']\n",
    "mask_obs_1 = dataset.sel(lon=np.arange(0,181.25,1.25))\n",
    "mask_obs_2 = dataset.sel(lon=np.arange(181.25,360,1.25))\n",
    "mask_obs_2['lon'] = mask_obs_2.lon - 360\n",
    "dataset = xr.concat([mask_obs_2,mask_obs_1],dim='lon')\n",
    "tp = dataset * 3600 * 1000"
   ]
  },
  {
   "cell_type": "code",
   "execution_count": null,
   "id": "b50fbf20-62c2-49f8-b42e-5ac571f13e0a",
   "metadata": {},
   "outputs": [],
   "source": [
    "if month != 'annual':\n",
    "    tp = tp.where(tp.time.dt.month.isin(months), drop=True)"
   ]
  },
  {
   "cell_type": "code",
   "execution_count": null,
   "id": "893c81ea-1ba5-4b6e-8dac-fd142007c230",
   "metadata": {
    "tags": []
   },
   "outputs": [],
   "source": [
    "cesm2 = tp.where(((tp.lat>=34) & (tp.lat<=46)) & ((tp.lon>= -11) & (tp.lon<=36)),drop=True)"
   ]
  },
  {
   "cell_type": "markdown",
   "id": "9ad34750-2d5b-4071-9be6-c4ee5071a56a",
   "metadata": {
    "tags": []
   },
   "source": [
    "map"
   ]
  },
  {
   "cell_type": "markdown",
   "id": "a705cf77-db9f-4e0b-8160-6c58d61c519a",
   "metadata": {
    "tags": []
   },
   "source": [
    "## ERA5"
   ]
  },
  {
   "cell_type": "markdown",
   "id": "378cfcef-d0ec-4a58-81bf-1e0b80dae2e1",
   "metadata": {},
   "source": [
    "pr_t"
   ]
  },
  {
   "cell_type": "code",
   "execution_count": null,
   "id": "40bf0251-4836-47f7-804d-0f68d1df0cec",
   "metadata": {},
   "outputs": [],
   "source": [
    "\n",
    "dataset = xr.open_dataset('/home/jwille/xenon_data/NextGEMS/era5/precip/cesm2_interp_precip_1950_2022_era5.nc')\n"
   ]
  },
  {
   "cell_type": "code",
   "execution_count": null,
   "id": "7c5498af-c772-4a11-8acd-8d93bf78fc7d",
   "metadata": {},
   "outputs": [],
   "source": [
    "#Get the PRECT variable\n",
    "precip = dataset.tp\n",
    "\n",
    "#Transform rate into total by multiplying by 86400s\n",
    "#df['vel'] = np.sqrt(df['u'].values**2 + df['v'].values*df['v'].values)\n",
    "precip = precip * 1000"
   ]
  },
  {
   "cell_type": "code",
   "execution_count": null,
   "id": "ca22f7e9-3ba3-462c-9d2b-2fb64e32d710",
   "metadata": {},
   "outputs": [],
   "source": [
    "if month != 'annual':\n",
    "    precip = precip.where(precip.time.dt.month.isin(months), drop=True)"
   ]
  },
  {
   "cell_type": "code",
   "execution_count": null,
   "id": "dac46231-3ad5-4ccf-912f-d2089faccfde",
   "metadata": {},
   "outputs": [],
   "source": [
    "indexer = ((precip.lat>=latitude[0]) & (precip.lat<=latitude[1]) & (precip.lon>=longitude[0]) & (precip.lon<=longitude[1])).compute()\n",
    "era5 = precip.where(indexer,drop=True)"
   ]
  },
  {
   "cell_type": "markdown",
   "id": "5d8137cf-fa0c-4677-8592-c7d824736aef",
   "metadata": {},
   "source": [
    "Map"
   ]
  },
  {
   "cell_type": "markdown",
   "id": "56c31be5-05f0-4fac-baf3-d788817b88b5",
   "metadata": {
    "tags": []
   },
   "source": [
    "## EOBS"
   ]
  },
  {
   "cell_type": "markdown",
   "id": "16016dee-a6eb-4d80-b464-b068465abae8",
   "metadata": {},
   "source": [
    "frame"
   ]
  },
  {
   "cell_type": "code",
   "execution_count": null,
   "id": "c1609bad-01a0-4c17-b5a8-4af7af0f0c01",
   "metadata": {},
   "outputs": [],
   "source": [
    "dataset = xr.open_dataset('/home/jwille/xenon_data/NextGEMS/EOBS/cesm2_interp_eobs.nc')\n"
   ]
  },
  {
   "cell_type": "code",
   "execution_count": null,
   "id": "0d7053df-3585-48ec-83db-9a4cf403f996",
   "metadata": {},
   "outputs": [],
   "source": [
    "#Get the PRECT variable\n",
    "precip = dataset.rr\n",
    "\n",
    "\n"
   ]
  },
  {
   "cell_type": "code",
   "execution_count": null,
   "id": "a6206660-d7cb-4b97-83f1-f0945b85317d",
   "metadata": {},
   "outputs": [],
   "source": [
    "if month != 'annual':\n",
    "    precip = precip.where(precip.time.dt.month.isin(months), drop=True)"
   ]
  },
  {
   "cell_type": "code",
   "execution_count": null,
   "id": "ff600a51-545a-4825-bd9f-c34ee11aced2",
   "metadata": {},
   "outputs": [],
   "source": [
    "indexer = ((precip.lat>=latitude[0]) & (precip.lat<=latitude[1]) & (precip.lon>=longitude[0]) & (precip.lon<=longitude[1])).compute()\n",
    "eobs = precip.where(indexer,drop=True)"
   ]
  },
  {
   "cell_type": "markdown",
   "id": "d65a0e4a-3d35-49d6-b3e6-b5d1a3ac70de",
   "metadata": {},
   "source": [
    "Map"
   ]
  },
  {
   "cell_type": "markdown",
   "id": "5559a064-7c3d-41f3-8009-6de36844331e",
   "metadata": {},
   "source": [
    "## Icon "
   ]
  },
  {
   "cell_type": "code",
   "execution_count": null,
   "id": "b7cf98ce-3518-4310-b7ea-25f300bddd26",
   "metadata": {},
   "outputs": [],
   "source": [
    "data = xr.open_dataset('/home/jwille/xenon_data/NextGEMS/ICON/precip/ngc3028/zoom7/1H_interp/cesm2_interp_precip_1H_2020_2025_ICON_newlons.nc')\n",
    "dataset = data.pr\n",
    "dataset = dataset * 60 * 30\n",
    "dataset = dataset.sel(time=slice(\"2020-01-01\", \"2024-12-31\"))\n",
    "precip = dataset.resample(time='1D').sum()"
   ]
  },
  {
   "cell_type": "code",
   "execution_count": null,
   "id": "68f1bd4e-ce7d-4064-9935-9ddb6829404e",
   "metadata": {
    "tags": []
   },
   "outputs": [],
   "source": [
    "if month != 'annual':\n",
    "    precip = precip.where(precip.time.dt.month.isin(months), drop=True)\n"
   ]
  },
  {
   "cell_type": "code",
   "execution_count": null,
   "id": "1db77409-d74d-4862-b11f-0d330cc5f96c",
   "metadata": {
    "tags": []
   },
   "outputs": [],
   "source": [
    "indexer = ((precip.lat>=latitude[0]) & (precip.lat<=latitude[1]) & (precip.lon>=longitude[0]) & (precip.lon<=longitude[1])).compute()\n",
    "icon = precip.where(indexer,drop=True)"
   ]
  },
  {
   "cell_type": "markdown",
   "id": "d0af1ba7-8717-4f99-a1a9-51c9eb9d0d37",
   "metadata": {
    "tags": []
   },
   "source": [
    "## IFS"
   ]
  },
  {
   "cell_type": "code",
   "execution_count": null,
   "id": "2070092e-93da-49a7-9bba-0066183f3754",
   "metadata": {},
   "outputs": [],
   "source": [
    "data = xr.open_dataset('/home/jwille/xenon_data/NextGEMS/IFS/precip/IFS_4.4-FESOM_5/025deg/1H_interp/cesm2_interp_precip_1H_2020_2024_IFS_newlons.nc')\n",
    "dataset = data.tp\n",
    "dataset = dataset * 1000 \n",
    "precip = dataset.resample(time='1D').sum()"
   ]
  },
  {
   "cell_type": "code",
   "execution_count": null,
   "id": "395a7cea-6a64-42c7-b610-0f189a352c6e",
   "metadata": {
    "tags": []
   },
   "outputs": [],
   "source": [
    "if month != 'annual':\n",
    "    precip = precip.where(precip.time.dt.month.isin(months), drop=True)"
   ]
  },
  {
   "cell_type": "code",
   "execution_count": null,
   "id": "9ea76941-b20f-41a0-a207-2139d08516cb",
   "metadata": {
    "tags": []
   },
   "outputs": [],
   "source": [
    "indexer = ((precip.lat>=latitude[0]) & (precip.lat<=latitude[1]) & (precip.lon>=longitude[0]) & (precip.lon<=longitude[1])).compute()\n",
    "ifs = precip.where(indexer,drop=True)"
   ]
  },
  {
   "cell_type": "code",
   "execution_count": null,
   "id": "20035cd2-0cda-4e91-a81d-4a5cc20812a8",
   "metadata": {
    "tags": []
   },
   "outputs": [],
   "source": [
    "#print(np.nanmax(ifs))\n",
    "#print(np.nanmax(icon))\n",
    "print(np.nanmax(eobs))"
   ]
  },
  {
   "cell_type": "markdown",
   "id": "d1f9f0ef-f72c-43c7-b10c-804998b14eed",
   "metadata": {},
   "source": [
    "## IMERG"
   ]
  },
  {
   "cell_type": "code",
   "execution_count": null,
   "id": "c6abcc3f-2b49-458e-ab4d-2f24ed1d28a6",
   "metadata": {},
   "outputs": [],
   "source": [
    "data_path = Path('/home/jwille/xenon_data/NextGEMS/IMERG/clean/CESM2_res/concat')\n",
    "\n",
    "files = sorted([str(f) for f in data_path.glob(f'new_lons*.nc')])[:]\n",
    "dataset = xr.open_mfdataset(files, engine='netcdf4',combine='by_coords')['precipitation']    \n",
    "dataset = dataset / 2    \n",
    "dataset = dataset.sel(time=slice(\"2001-01-01\", \"2022-12-31\"))\n",
    "dataset = dataset.resample(time='1D').sum(skipna=False)"
   ]
  },
  {
   "cell_type": "code",
   "execution_count": null,
   "id": "0847862b-e951-4e5b-982c-fe53e7fe4246",
   "metadata": {},
   "outputs": [],
   "source": [
    "if month != 'annual':\n",
    "    precip = precip.where(precip.time.dt.month.isin(months), drop=True)"
   ]
  },
  {
   "cell_type": "code",
   "execution_count": null,
   "id": "b5410679-9b93-43cf-856f-4653933f495a",
   "metadata": {},
   "outputs": [],
   "source": [
    "indexer = ((precip.lat>=latitude[0]) & (precip.lat<=latitude[1]) & (precip.lon>=longitude[0]) & (precip.lon<=longitude[1])).compute()\n",
    "imerg = precip.where(indexer,drop=True)"
   ]
  },
  {
   "cell_type": "markdown",
   "id": "03a7e077-d20b-4cc1-8463-effca95386c1",
   "metadata": {},
   "source": [
    "Map"
   ]
  },
  {
   "cell_type": "markdown",
   "id": "8c689331-47e7-4360-a74b-2d1786eaad3d",
   "metadata": {
    "tags": []
   },
   "source": [
    "## Plots"
   ]
  },
  {
   "cell_type": "code",
   "execution_count": null,
   "id": "bf0ec168-0305-496e-9674-3c8c5b3686ed",
   "metadata": {},
   "outputs": [],
   "source": [
    "#cycle3\n",
    "\n",
    "\n",
    "bins1 = np.arange(cesm2.min(), cesm2.max() + 2, 2)\n",
    "bins2 = np.arange(era5.min(), era5.max() + 2, 2)\n",
    "bins3 = np.arange(eobs.min(), eobs.max() + 2, 2)\n",
    "bins4 = np.arange(icon.min(), icon.max() + 2, 2)\n",
    "bins5 = np.arange(ifs.min(), ifs.max() + 2, 2)\n",
    "bins6 = np.arange(imerg.min(), imerg.max() + 2, 2)\n",
    "\n"
   ]
  },
  {
   "cell_type": "code",
   "execution_count": null,
   "id": "a16a739f-cf72-437d-bbb4-3555039652eb",
   "metadata": {},
   "outputs": [],
   "source": [
    "# probability density function (PDF) \n",
    "\n",
    "#icon_line = stats.gaussian_kde(icon.values.flatten()[np.logical_not(np.isnan(icon.values.flatten()))])\n",
    "#era5_line = stats.gaussian_kde(era5.values.flatten()[np.logical_not(np.isnan(era5.values.flatten()))])\n",
    "#ifs_line = stats.gaussian_kde(ifs.values.flatten()[np.logical_not(np.isnan(ifs.values.flatten()))])\n",
    "#eobs_line = stats.gaussian_kde(eobs.values.flatten()[np.logical_not(np.isnan(eobs.values.flatten()))])\n",
    "#cesm2_line = stats.gaussian_kde(cesm2.values.flatten()[np.logical_not(np.isnan(cesm2.values.flatten()))])\n",
    "\n"
   ]
  },
  {
   "cell_type": "code",
   "execution_count": null,
   "id": "c97ea2b8-cb81-4098-97e4-152c432e73fe",
   "metadata": {},
   "outputs": [],
   "source": [
    "\n",
    "\n",
    "\n",
    "\n",
    "fig = plt.figure(figsize = (16,8)) \n",
    "plt.rc('axes', titlesize=18)\n",
    "plt.rc('axes', labelsize=14)\n",
    "\n",
    "colors = ['#FF8C69', '#7FFF7F', '#FFC300', '#FF69B4', '#6BB7EC', '#C5A5CF80','#AEC6CF']\n",
    "\n",
    "#plt.hist(pr_t.values.flatten(), bins = bins2, density = True, log = True, color = pink, alpha=1, label='CERRA')\n",
    "#plt.hist(cmip_fr.values.flatten(), bins = bins1, density = True, log = True, color = 'pink', alpha=0.6, label='CMIP6')\n",
    "\n",
    "#plt.hist(icon.values.flatten(), bins = bins4, density = True, log = True, color = colors[0], alpha=0.5, label='ICON',histtype='bar', rwidth=0.8)\n",
    "#plt.hist(era5.values.flatten(), bins = bins2, density = True, log = True, color = colors[1], alpha=0.5, label='ERA5',histtype='bar', rwidth=0.8)\n",
    "#plt.hist(ifs.values.flatten(), bins = bins5, density = True, log = True, color = colors[2], alpha=0.5, label='IFS_4.4-FESOM_5',histtype='bar', rwidth=0.8)\n",
    "#plt.hist(eobs.values.flatten(), bins = bins3, density = True, log = True, color = colors[5], alpha=0.7, label='E-OBS',histtype='bar', rwidth=0.8)\n",
    "#plt.hist(cesm2.values.flatten(), bins = bins1, density = True, log = True, color = colors[4], alpha=1.0,fc='None', ec=colors[4],label='CESM2')\n",
    "\n",
    "plt.hist(icon.values.flatten(), bins = bins4, density = True, log = True, color = colors[0], alpha=1.0, label='ICON',histtype='step', rwidth=0.8)\n",
    "plt.hist(era5.values.flatten(), bins = bins2, density = True, log = True, color = colors[1], alpha=1.0, label='ERA5',histtype='step', rwidth=0.8)\n",
    "plt.hist(ifs.values.flatten(), bins = bins5, density = True, log = True, color = colors[2], alpha=1.0, label='IFS',histtype='step', rwidth=0.8)\n",
    "plt.hist(eobs.values.flatten(), bins = bins3, density = True, log = True, color = colors[5], alpha=1.0, label='E-OBS',histtype='step', rwidth=0.8)\n",
    "plt.hist(imerg.values.flatten(), bins = bins6, density = True, log = True, color = colors[6], alpha=1.0, label='IMERG',histtype='step', rwidth=0.8)\n",
    "\n",
    "n, x, _ = plt.hist(cesm2.values.flatten(), bins = bins1, density = True, log = True, color = colors[4], alpha=1.0,histtype='step', rwidth=0.8,label='CESM2')\n",
    "\n",
    "#plt.plot(x, icon_line(x),color = colors[0])\n",
    "#plt.plot(x, era5_line(x),color = colors[1])\n",
    "#plt.plot(x, ifs_line(x),color = colors[2])\n",
    "#plt.plot(x, eobs_line(x),color = colors[5])\n",
    "#plt.plot(x, cesm2_line(x),color = colors[4])\n",
    "\n",
    "plt.xlabel('mm day' + r'$^{-1}$',fontsize=20)\n",
    "plt.ylabel('Probability',fontsize=20)\n",
    "plt.title('Mediterranean daily precipitation (CESM2 grid), '+month+'',fontsize=22)\n",
    "plt.gca().xaxis.set_major_locator(ticker.MultipleLocator(40))\n",
    "plt.xlim(0, 205)\n",
    "#plt.xlim(0, 500)\n",
    "\n",
    "#plt.ylim(0,10**7)\n",
    "plt.tick_params(axis='both', which='major', labelsize=15)\n",
    "yticks = [10**(-8), 10**(-7), 10**(-6), 10**(-5), 10**(-4), 10**(-3), 10**(-2), 10**(-1), 1]\n",
    "#yticks = [10**(-7), 10**(-6), 10**(-5), 10**(-4), 10**(-3), 10**(-2), 10**(-1), 1]\n",
    "plt.gca().set_yticks(yticks)\n",
    "plt.gca().set_ylim(bottom=yticks[0], top=1)\n",
    "\n",
    "\n",
    "min_ylim = plt.gca().get_ylim()[0]  # Get the minimum y-limit of the current axes\n",
    "\n",
    "plt.scatter(np.max(cesm2), min_ylim + 0.000000003, color=colors[4], marker='*', s=200, label='CESM2 max', zorder=5)\n",
    "plt.scatter(np.max(eobs), min_ylim + 0.000000003, color=colors[5], marker='*', s=200, label='E-OBS max', zorder=5)\n",
    "plt.scatter(np.max(era5), min_ylim + 0.000000003, color=colors[1], marker='*', s=200, label='ERA5 max', zorder=5)\n",
    "plt.scatter(np.max(ifs), min_ylim + 0.000000003, color=colors[2], marker='*', s=200, label='IFS max', zorder=5)\n",
    "plt.scatter(np.max(icon), min_ylim + 0.000000003, color=colors[0], marker='*', s=200, label='ICON max', zorder=5)\n",
    "plt.scatter(np.max(imerg), min_ylim + 0.000000003, color=colors[6], marker='*', s=200, label='IMERG max', zorder=5)\n",
    "\n",
    "\n",
    "#plt.axvline(x=np.max(cesm2), color=colors[4], linestyle='--', linewidth=2, label = 'CESM2 max')\n",
    "#plt.axvline(x=np.max(eobs), color=colors[5], linestyle='--', linewidth=2, label='E-OBS max')\n",
    "#plt.axvline(x=np.max(era5), color = colors[1], linestyle = '--', linewidth=2, label = 'ERA5 max')\n",
    "#plt.axvline(x=np.max(ifs), color = colors[2], linestyle = '--', linewidth=2, label = 'IFS max')\n",
    "#plt.axvline(x=np.max(icon), color = colors[0], linestyle = '--', linewidth =2, label = 'ICON max')\n",
    "#plt.axvline(x=np.max(imerg), color = colors[6], linestyle = '--', linewidth =2, label = 'IMERG max')\n",
    "\n",
    "plt.legend(loc='upper right',prop={'size': 13})\n",
    "plt.savefig('/home/jwille/images/Med_'+month+'_histo_cycle3_interp_cesm2.pdf', format='pdf',bbox_inches='tight')\n",
    "plt.show()"
   ]
  },
  {
   "cell_type": "code",
   "execution_count": null,
   "id": "e3462236-0139-496f-911c-635e29db4e90",
   "metadata": {},
   "outputs": [],
   "source": []
  },
  {
   "cell_type": "code",
   "execution_count": null,
   "id": "70a862b5-8e62-4995-9e03-acc62bf40f99",
   "metadata": {},
   "outputs": [],
   "source": []
  }
 ],
 "metadata": {
  "kernelspec": {
   "display_name": "Python (iacpy3_2022)",
   "language": "python",
   "name": "iacpy3_2022"
  },
  "language_info": {
   "codemirror_mode": {
    "name": "ipython",
    "version": 3
   },
   "file_extension": ".py",
   "mimetype": "text/x-python",
   "name": "python",
   "nbconvert_exporter": "python",
   "pygments_lexer": "ipython3",
   "version": "3.9.10"
  }
 },
 "nbformat": 4,
 "nbformat_minor": 5
}
