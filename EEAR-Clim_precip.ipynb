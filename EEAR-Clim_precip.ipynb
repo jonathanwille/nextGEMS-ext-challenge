{
 "cells": [
  {
   "cell_type": "code",
   "execution_count": 27,
   "id": "9c4cc341-cd24-47b9-b147-7caf241b8107",
   "metadata": {},
   "outputs": [],
   "source": [
    "import matplotlib.pylab as plt\n",
    "import numpy as np\n",
    "import matplotlib.cm as cm\n",
    "import cmocean.cm as cmo\n",
    "import intake\n",
    "\n",
    "import numcodecs\n",
    "try:\n",
    "    import gribscan\n",
    "except:\n",
    "    %pip install gribscan\n",
    "    import gribscan\n",
    "import cfgrib\n",
    "import gc\n",
    "\n",
    "from getpass import getuser # Libaray to copy things\n",
    "from pathlib import Path # Object oriented libary to deal with paths\n",
    "from dask.utils import format_bytes\n",
    "from dask.diagnostics import ProgressBar\n",
    "\n",
    "from distributed import Client, progress, wait # Libaray to orchestrate distributed resources\n",
    "#from dask_jobqueue import SLURMCluster # Setting up distributed memories via slurm\n",
    "import numpy as np # Pythons standard array library\n",
    "import xarray as xr # Libary to work with labeled n-dimensional data\n",
    "import dask # Distributed data libary\n",
    "import dask.distributed\n",
    "import multiprocessing\n",
    "from subprocess import run, PIPE\n",
    "import re\n",
    "from math import radians, cos, sin, sqrt, atan2\n",
    "import sys\n",
    "import os\n",
    "import warnings\n",
    "warnings.filterwarnings(action='ignore')\n",
    "dask.config.config.get('distributed').get('dashboard').update({'link':'{JUPYTERHUB_SERVICE_PREFIX}/proxy/{port}/status'})\n",
    "import pandas as pd\n",
    "import eccodes\n",
    "import healpy\n",
    "import json\n"
   ]
  },
  {
   "cell_type": "code",
   "execution_count": 28,
   "id": "faae7662-de4d-46f2-b3e0-31afad475db1",
   "metadata": {},
   "outputs": [],
   "source": [
    "#This script will load the quality controlled precipitation dataset from the station closest to\n",
    "# the input latitude and longitude\n",
    "\n",
    "target_latitude = 47\n",
    "target_longitude = 9\n",
    " "
   ]
  },
  {
   "cell_type": "code",
   "execution_count": 29,
   "id": "98f573e6-a222-4dcf-a683-8813672dc791",
   "metadata": {},
   "outputs": [],
   "source": [
    "# Function to calculate the distance between two latitude and longitude pairs\n",
    "def haversine(lat1, lon1, lat2, lon2):\n",
    "    # Radius of the Earth in kilometers\n",
    "    R = 6371.0  \n",
    "    dlat = radians(lat2 - lat1)\n",
    "    dlon = radians(lon2 - lon1)\n",
    "    a = sin(dlat/2)**2 + cos(radians(lat1)) * cos(radians(lat2)) * sin(dlon/2)**2\n",
    "    c = 2 * atan2(sqrt(a), sqrt(1 - a))\n",
    "    return R * c"
   ]
  },
  {
   "cell_type": "code",
   "execution_count": 30,
   "id": "1002ff2f-7410-4222-85d3-d67cc21397db",
   "metadata": {},
   "outputs": [],
   "source": [
    "def extract_coordinates(file_name):\n",
    "    # Updated regex pattern to match the 3rd and 4th numeric groups\n",
    "    match = re.search(r'_(\\d+\\.\\d+)_(\\d+\\.\\d+)_', file_name)\n",
    "    if match:\n",
    "        longitude = float(match.group(1))  # 3rd group is Longitude\n",
    "        latitude = float(match.group(2))   # 4th group is Latitude\n",
    "        return longitude, latitude\n",
    "    return None, None"
   ]
  },
  {
   "cell_type": "code",
   "execution_count": 31,
   "id": "ab50c80c-b00e-4e46-bcf4-aaa77e631457",
   "metadata": {},
   "outputs": [],
   "source": [
    "# Function to find the file with the closest coordinates\n",
    "def find_closest_file(directory, target_lat, target_lon):\n",
    "    closest_file = None\n",
    "    min_distance = float('inf')\n",
    "        # Loop through each file in the directory\n",
    "    for file_name in os.listdir(directory):\n",
    "        # Check if file is a txt file\n",
    "        if file_name.endswith('.txt'):\n",
    "            file_path = os.path.join(directory, file_name)\n",
    "            # Extract coordinates from file name\n",
    "            lon, lat = extract_coordinates(file_name)\n",
    "            if lon is not None and lat is not None:\n",
    "                # Calculate the distance from the target coordinates\n",
    "                distance = haversine(target_lat, target_lon, lat, lon)\n",
    "                #print(f\"Checking file: {file_name}, Distance: {distance:.2f} km\")\n",
    "                # Update the closest file if a shorter distance is found\n",
    "                if distance < min_distance:\n",
    "                    min_distance = distance\n",
    "                    closest_file = file_path\n",
    "\n",
    "    return closest_file, distance"
   ]
  },
  {
   "cell_type": "code",
   "execution_count": 32,
   "id": "869c523a-4faa-4010-a17b-e4c8f32eb41f",
   "metadata": {},
   "outputs": [],
   "source": [
    "# Function to load data from the closest file\n",
    "def load_data(file_path):\n",
    "    data = pd.read_csv(file_path, sep=\",\")\n",
    "    data['Date'] = pd.to_datetime(data['Date'])  # Convert Date to datetime format\n",
    "    xarray_data = xr.Dataset.from_dataframe(data.set_index('Date'))\n",
    "    return xarray_data\n"
   ]
  },
  {
   "cell_type": "code",
   "execution_count": 33,
   "id": "94791d81-3b90-47f6-b31d-f0f084890a36",
   "metadata": {},
   "outputs": [
    {
     "name": "stdout",
     "output_type": "stream",
     "text": [
      "Closest file found: /home/b/b382083/work/Hackathon_challenge/Station_data/LOM0339_1352_8.619_46.534_19870101-19961230.txt, Distance: 219.48 km\n"
     ]
    }
   ],
   "source": [
    "\n",
    "\n",
    "# Directory where the files are located\n",
    "directory = \"/home/b/b382083/work/Hackathon_challenge/Station_data\"  # Update with the correct directory path\n",
    "\n",
    "# Find the closest file based on coordinates\n",
    "closest_file,distance = find_closest_file(directory, target_latitude, target_longitude)\n",
    "\n",
    "# Print and load the closest file\n",
    "if closest_file:\n",
    "    print(f\"Closest file found: {closest_file}, Distance: {distance:.2f} km\")\n",
    "    data_xarray = load_data(closest_file)\n",
    "    precip = data_xarray[[\"Date\", \"P_QC\"]]\n",
    "    #print(precip)\n",
    "else:\n",
    "    print(\"No matching file found.\")"
   ]
  }
 ],
 "metadata": {
  "kernelspec": {
   "display_name": "1 Python 3 (based on the module python3/2023.01)",
   "language": "python",
   "name": "python3_2023_01"
  },
  "language_info": {
   "codemirror_mode": {
    "name": "ipython",
    "version": 3
   },
   "file_extension": ".py",
   "mimetype": "text/x-python",
   "name": "python",
   "nbconvert_exporter": "python",
   "pygments_lexer": "ipython3",
   "version": "3.10.10"
  }
 },
 "nbformat": 4,
 "nbformat_minor": 5
}
