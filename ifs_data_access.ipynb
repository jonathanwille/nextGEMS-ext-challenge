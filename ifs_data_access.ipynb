{
 "cells": [
  {
   "cell_type": "code",
   "execution_count": 1,
   "id": "926091c1-9ab1-42ba-88ba-22ce734a1a0d",
   "metadata": {},
   "outputs": [],
   "source": [
    "import matplotlib.pylab as plt\n",
    "import numpy as np\n",
    "import matplotlib.cm as cm\n",
    "import cmocean.cm as cmo\n",
    "import intake\n",
    "\n",
    "import numcodecs\n",
    "try:\n",
    "    import gribscan\n",
    "except:\n",
    "    %pip install gribscan\n",
    "    import gribscan\n",
    "import cfgrib\n",
    "import gc\n",
    "\n",
    "from getpass import getuser # Libaray to copy things\n",
    "from pathlib import Path # Object oriented libary to deal with paths\n",
    "from dask.utils import format_bytes\n",
    "from dask.diagnostics import ProgressBar\n",
    "\n",
    "from distributed import Client, progress, wait # Libaray to orchestrate distributed resources\n",
    "#from dask_jobqueue import SLURMCluster # Setting up distributed memories via slurm\n",
    "import numpy as np # Pythons standard array library\n",
    "import xarray as xr # Libary to work with labeled n-dimensional data\n",
    "import dask # Distributed data libary\n",
    "import dask.distributed\n",
    "import multiprocessing\n",
    "from subprocess import run, PIPE\n",
    "import sys\n",
    "import os\n",
    "import warnings\n",
    "warnings.filterwarnings(action='ignore')\n",
    "dask.config.config.get('distributed').get('dashboard').update({'link':'{JUPYTERHUB_SERVICE_PREFIX}/proxy/{port}/status'})\n",
    "import pandas as pd\n",
    "import eccodes\n"
   ]
  },
  {
   "cell_type": "code",
   "execution_count": 2,
   "id": "5156bc97-868c-4f98-a3fa-75d0c2393912",
   "metadata": {},
   "outputs": [],
   "source": [
    "cat = intake.open_catalog(\"https://data.nextgems-h2020.eu/catalog.yaml\")\n",
    "\n",
    "\n"
   ]
  },
  {
   "cell_type": "code",
   "execution_count": 3,
   "id": "ba72fcbd-164c-4ae6-a97b-1872d5f601d0",
   "metadata": {
    "tags": []
   },
   "outputs": [],
   "source": [
    "#print(data.variables)"
   ]
  },
  {
   "cell_type": "code",
   "execution_count": 4,
   "id": "ff481889-f9ff-4a84-bfaa-857094d9c6f2",
   "metadata": {},
   "outputs": [],
   "source": [
    "\n",
    "#print(list(cat.IFS['IFS_9-FESOM_5-production']))\n"
   ]
  },
  {
   "cell_type": "code",
   "execution_count": 5,
   "id": "0070d84a-72e8-4c9a-b08b-6b21219780ac",
   "metadata": {},
   "outputs": [],
   "source": [
    "#####calculate the temporal mean\n",
    "def calculate_temporal(data,year,month,day,function,latitude,longitude):\n",
    "    indexer = ((data.lat>=latitude[0]) & (data.lat<=latitude[1]) & (data.lon>=longitude[0]) & (data.lon<=longitude[1])).compute()\n",
    "    data = data.where(indexer,drop=True)\n",
    "    if function == 'precip':\n",
    "        data = data.resample(time='1D').sum() * 1000\n",
    "        data = data.where(data.time.dt.year.isin(year), drop=True)\n",
    "        data = data.where(data.time.dt.month.isin(month), drop=True)\n",
    "        data = data.where(data.time.dt.day.isin(day), drop=True)\n",
    "        data.attrs['units'] = 'mm/day' \n",
    "    if function == 'tmean':\n",
    "        data = data.where(data.time.dt.year.isin(year), drop=True)\n",
    "        data = data.where(data.time.dt.month.isin(month), drop=True)\n",
    "        data = data.where(dsel.time.dt.day.isin(day), drop=True)\n",
    "        data = data.resample(time='1D').mean()\n",
    "        data = data - 273.15\n",
    "        data.attrs['units'] = 'C'     \n",
    "    if function == 'tmax':\n",
    "        data = data.where(data.time.dt.year.isin(year), drop=True)\n",
    "        data = data.where(data.time.dt.month.isin(month), drop=True)\n",
    "        data = data.where(dsel.time.dt.day.isin(day), drop=True)\n",
    "        data = data.resample(time='1D').max()\n",
    "        dsel = data - 273.15\n",
    "        data.attrs['units'] = 'C'     \n",
    "    #days = np.arange(1,32,1)\n",
    "    data = data.load()\n",
    "\n",
    "    return data"
   ]
  },
  {
   "cell_type": "code",
   "execution_count": 6,
   "id": "00283b6f-f522-4b14-90a1-8e208932574c",
   "metadata": {},
   "outputs": [],
   "source": [
    "#####function that uses all the functions.\n",
    "def temporal_mean(dataset,year,month,day,function,latitude,longitude):\n",
    "# If you want to change the longitude range from 0:360 to -180:180 to make clipping easier around the prime  meridian\n",
    "    dataset['lon_adjusted'] = xr.where(dataset.lon > 180, dataset.lon - 360, dataset.lon)\n",
    "    dataset['lon'] = dataset['lon_adjusted']\n",
    "    dataset = dataset.reset_coords(names='lon_adjusted', drop=True)\n",
    "    \n",
    "    ###calculate\n",
    "    calc_var = calculate_temporal(dataset,year,month,day,function,latitude,longitude)\n",
    "    return calc_var\n",
    "    #del var_final\n",
    "    del dataset\n",
    "    del cal_var\n",
    "    gc.collect()"
   ]
  },
  {
   "cell_type": "code",
   "execution_count": 7,
   "id": "013c5f81-714f-482e-b9a8-d367416d766a",
   "metadata": {},
   "outputs": [],
   "source": [
    "\n",
    "res = 'IFS_9-FESOM_5'\n",
    "var = ['tp'] #for cape, change to 2D_1h_0.25deg. precip = tp temperature = 2t\n",
    "function = 'precip'\n",
    "#months = [1,2,3,4,5,6,7,8,9,10,11,12]\n",
    "months = [2,3]\n",
    "#years = np.arange(2020, 2049)\n",
    "years = [2021]\n",
    "#days = np.arange(1,32,1)\n",
    "days = np.arange(28,29,1)\n",
    "\n",
    "latitude = [35,45] #Choose your own lat/lon range \n",
    "longitude = [-11,5]\n",
    "\n",
    "#IFS_9-FESOM_5-production\n",
    "#IFS_9-FESOM_5-production-hist\n",
    "data = cat.IFS['IFS_9-FESOM_5-production']['2D_hourly_healpix512'](chunks={}).to_dask().drop_duplicates('time', keep='last') # load H512, hourly; and exclude time duplicates containing NaNs\n",
    "\n",
    "dataset = data[var]"
   ]
  },
  {
   "cell_type": "code",
   "execution_count": null,
   "id": "e1e5bcc2-94e5-47cf-a3db-1da4434968da",
   "metadata": {},
   "outputs": [],
   "source": [
    "\n",
    "variable = temporal_mean(dataset,years,months,days,function,latitude,longitude)\n"
   ]
  },
  {
   "cell_type": "code",
   "execution_count": null,
   "id": "d3df20a2-64ee-4af1-92fa-a15de5dc3ff7",
   "metadata": {},
   "outputs": [],
   "source": [
    "print(variable.time)"
   ]
  },
  {
   "cell_type": "code",
   "execution_count": null,
   "id": "7a176e7f-5a03-40fc-bdae-64a8eb7bdc3c",
   "metadata": {},
   "outputs": [],
   "source": []
  }
 ],
 "metadata": {
  "kernelspec": {
   "display_name": "python-HH-hackathon",
   "language": "python",
   "name": "python-hh-hackathon"
  },
  "language_info": {
   "codemirror_mode": {
    "name": "ipython",
    "version": 3
   },
   "file_extension": ".py",
   "mimetype": "text/x-python",
   "name": "python",
   "nbconvert_exporter": "python",
   "pygments_lexer": "ipython3",
   "version": "3.10.13"
  }
 },
 "nbformat": 4,
 "nbformat_minor": 5
}
