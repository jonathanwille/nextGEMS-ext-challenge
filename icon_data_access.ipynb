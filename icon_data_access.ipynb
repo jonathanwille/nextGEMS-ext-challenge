{
 "cells": [
  {
   "cell_type": "code",
   "execution_count": 9,
   "id": "926091c1-9ab1-42ba-88ba-22ce734a1a0d",
   "metadata": {},
   "outputs": [],
   "source": [
    "import matplotlib.pylab as plt\n",
    "import numpy as np\n",
    "import matplotlib.cm as cm\n",
    "import cmocean.cm as cmo\n",
    "import intake\n",
    "\n",
    "import numcodecs\n",
    "try:\n",
    "    import gribscan\n",
    "except:\n",
    "    %pip install gribscan\n",
    "    import gribscan\n",
    "import cfgrib\n",
    "import gc\n",
    "\n",
    "from getpass import getuser # Libaray to copy things\n",
    "from pathlib import Path # Object oriented libary to deal with paths\n",
    "from dask.utils import format_bytes\n",
    "from dask.diagnostics import ProgressBar\n",
    "\n",
    "from distributed import Client, progress, wait # Libaray to orchestrate distributed resources\n",
    "#from dask_jobqueue import SLURMCluster # Setting up distributed memories via slurm\n",
    "import numpy as np # Pythons standard array library\n",
    "import xarray as xr # Libary to work with labeled n-dimensional data\n",
    "import dask # Distributed data libary\n",
    "import dask.distributed\n",
    "import multiprocessing\n",
    "from subprocess import run, PIPE\n",
    "import sys\n",
    "import os\n",
    "import warnings\n",
    "warnings.filterwarnings(action='ignore')\n",
    "dask.config.config.get('distributed').get('dashboard').update({'link':'{JUPYTERHUB_SERVICE_PREFIX}/proxy/{port}/status'})\n",
    "import pandas as pd\n",
    "import eccodes\n",
    "import healpy\n"
   ]
  },
  {
   "cell_type": "code",
   "execution_count": 10,
   "id": "5156bc97-868c-4f98-a3fa-75d0c2393912",
   "metadata": {},
   "outputs": [],
   "source": [
    "cat = intake.open_catalog(\"https://data.nextgems-h2020.eu/catalog.yaml\")\n",
    "\n",
    "\n"
   ]
  },
  {
   "cell_type": "code",
   "execution_count": 11,
   "id": "136a39b4-433b-406e-8519-45d2dcb315be",
   "metadata": {
    "tags": []
   },
   "outputs": [],
   "source": [
    "\n",
    "def get_nest(dx):\n",
    "    return dx.crs.healpix_order == \"nest\"\n",
    "\n",
    "\n",
    "def get_nside(dx):\n",
    "    return dx.crs.healpix_nside\n",
    "\n",
    "\n",
    "def attach_coords(ds):\n",
    "    lons, lats = healpy.pix2ang(\n",
    "        get_nside(ds), np.arange(ds.dims[\"cell\"]), nest=get_nest(ds), lonlat=True\n",
    "    )\n",
    "    return ds.assign_coords(\n",
    "        lat=((\"cell\",), lats, {\"units\": \"degree_north\"}),\n",
    "        lon=((\"cell\",), lons, {\"units\": \"degree_east\"}),\n",
    "    )\n"
   ]
  },
  {
   "cell_type": "code",
   "execution_count": 12,
   "id": "0070d84a-72e8-4c9a-b08b-6b21219780ac",
   "metadata": {},
   "outputs": [],
   "source": [
    "\n",
    "def calculate_temporal(data,year,month,day,function,latitude,longitude):\n",
    "    indexer = ((data.lat>=latitude[0]) & (data.lat<=latitude[1]) & (data.lon>=longitude[0]) & (data.lon<=longitude[1]))\n",
    "    data = data.where(indexer,drop=True)\n",
    "    if function == 'precip':\n",
    "        data = data.where(data.time.dt.year.isin(year), drop=True)\n",
    "        data = data.where(data.time.dt.month.isin(month), drop=True)\n",
    "        data = data.where(data.time.dt.day.isin(day), drop=True)\n",
    "\n",
    "        data = data * 900 #ICON precip is mm/s in 15 minute blocks. i.e. 60 * 15\n",
    "        data.attrs['units'] = 'mm hr-1'\n",
    "        try:\n",
    "            data = data.resample(time='1H').sum()\n",
    "        except ValueError:\n",
    "            pass        \n",
    "    if function == 'tmean':\n",
    "        data = data.where(data.time.dt.year.isin(year), drop=True)\n",
    "        data = data.where(data.time.dt.month.isin(month), drop=True)\n",
    "        data = data - 273.15\n",
    "        data.attrs['units'] = 'C'     \n",
    "\n",
    "    if function == 'tmax':\n",
    "        data = data.where(data.time.dt.year.isin(year), drop=True)\n",
    "        data = data.where(data.time.dt.month.isin(month), drop=True)\n",
    "        data = data.where(data.time.dt.day.isin(day), drop=True)\n",
    "        data = data.resample(time='1D').max()\n",
    "\n",
    "        data = data - 273.15\n",
    "        data.attrs['units'] = 'C'     \n",
    "    if function == 'other':\n",
    "        print(data)\n",
    "        #data = data.where(data.time.dt.year.isin(year), drop=True)\n",
    "        #data = data.where(data.time.dt.month.isin(month), drop=True)\n",
    "        #data = data.where(data.time.dt.month.isin(day), drop=True)       \n",
    "\n",
    "    dsel = data.load()\n",
    "    return dsel\n",
    "    \n",
    "\n",
    "    \n",
    "       "
   ]
  },
  {
   "cell_type": "code",
   "execution_count": 13,
   "id": "00283b6f-f522-4b14-90a1-8e208932574c",
   "metadata": {},
   "outputs": [],
   "source": [
    "#####function that uses all the functions.\n",
    "def temporal_mean(dataset,year,month,day,function,latitude,longitude):\n",
    "    \n",
    "# If you want to change the longitude range from 0:360 to -180:180 to make clipping easier around the prime  meridian\n",
    "    dataset['lon_adjusted'] = xr.where(dataset.lon > 180, dataset.lon - 360, dataset.lon)\n",
    "    dataset['lon'] = dataset['lon_adjusted']\n",
    "    dataset = dataset.reset_coords(names='lon_adjusted', drop=True)\n",
    "    ###calculate\n",
    "    calc_var = calculate_temporal(dataset,year,month,day,function,latitude,longitude)\n",
    "    return calc_var\n",
    "    #del var_final\n",
    "    del dataset\n",
    "    del cal_var\n",
    "    gc.collect()"
   ]
  },
  {
   "cell_type": "code",
   "execution_count": 14,
   "id": "013c5f81-714f-482e-b9a8-d367416d766a",
   "metadata": {},
   "outputs": [],
   "source": [
    "\n",
    "res = 'ICON_ngc4008'\n",
    "var = ['pr'] #for cape, change to 2D_1h_0.25deg precip = pr 'crs' land_sea_mask = 'ocean_fraction_surface'\n",
    "\n",
    "function = 'precip'\n",
    "#months = [1,2,3,4,5,6,7,8,9,10,11,12]\n",
    "months = [2,3]\n",
    "#years = np.arange(2020, 2049)\n",
    "years = [2021]\n",
    "#days = np.arange(1,32,1)\n",
    "days = np.arange(28,29,1)\n",
    "\n",
    "latitude = [35,45] #Choose your own lat/lon range \n",
    "longitude = [-11,5]\n",
    "\n",
    "data = cat.ICON.ngc4008(chunks=\"auto\")(time=\"PT15M\",zoom=9).to_dask().pipe(attach_coords)  #PT15M,PT3H,P1D\n",
    "dataset = data[var]\n"
   ]
  },
  {
   "cell_type": "code",
   "execution_count": 15,
   "id": "e1e5bcc2-94e5-47cf-a3db-1da4434968da",
   "metadata": {},
   "outputs": [],
   "source": [
    "variable = temporal_mean(dataset,years,months,days,function,latitude,longitude)\n"
   ]
  },
  {
   "cell_type": "code",
   "execution_count": 16,
   "id": "7a176e7f-5a03-40fc-bdae-64a8eb7bdc3c",
   "metadata": {},
   "outputs": [
    {
     "name": "stdout",
     "output_type": "stream",
     "text": [
      "<xarray.Dataset>\n",
      "Dimensions:  (time: 696, cell: 9371)\n",
      "Coordinates:\n",
      "  * time     (time) datetime64[ns] 2021-02-28 ... 2021-03-28T23:00:00\n",
      "    lat      (cell) float64 36.52 36.61 36.7 36.7 ... 41.51 41.61 41.61 41.71\n",
      "    lon      (cell) float64 4.922 4.834 4.922 4.746 ... 0.0 0.08789 -0.08789 0.0\n",
      "Dimensions without coordinates: cell\n",
      "Data variables:\n",
      "    pr       (time, cell) float32 2.982e-13 2.672e-13 ... 0.2257 0.02432\n",
      "Attributes:\n",
      "    units:    mm hr-1\n"
     ]
    }
   ],
   "source": [
    "print(variable)"
   ]
  },
  {
   "cell_type": "code",
   "execution_count": null,
   "id": "7710e3d1-d4fd-48d5-98de-2ca686c470b3",
   "metadata": {},
   "outputs": [],
   "source": []
  }
 ],
 "metadata": {
  "kernelspec": {
   "display_name": "0 Python 3 (based on the module python3/unstable",
   "language": "python",
   "name": "python3_unstable"
  },
  "language_info": {
   "codemirror_mode": {
    "name": "ipython",
    "version": 3
   },
   "file_extension": ".py",
   "mimetype": "text/x-python",
   "name": "python",
   "nbconvert_exporter": "python",
   "pygments_lexer": "ipython3",
   "version": "3.10.10"
  }
 },
 "nbformat": 4,
 "nbformat_minor": 5
}
