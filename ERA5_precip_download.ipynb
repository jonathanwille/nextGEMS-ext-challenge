{
 "cells": [
  {
   "cell_type": "code",
   "execution_count": 4,
   "id": "8e156aa8-616a-4137-b4fa-78f7a29b6055",
   "metadata": {},
   "outputs": [
    {
     "name": "stdout",
     "output_type": "stream",
     "text": [
      "Defaulting to user installation because normal site-packages is not writeable\n",
      "Requirement already satisfied: healpy in /home/b/b382083/.local/lib/python3.10/site-packages (1.17.3)\n",
      "Requirement already satisfied: numpy>=1.19 in /home/b/b380001/freva/lib/python3.10/site-packages (from healpy) (1.23.4)\n",
      "Collecting astropy\n",
      "  Downloading astropy-6.1.4-cp310-cp310-manylinux_2_17_x86_64.manylinux2014_x86_64.whl (10.0 MB)\n",
      "     l     ━━━━━━━━━━━━━━━━━━━━━━━━━━━━━━━━━━━━━━━━ 0.0/10.0 MB ? eta -:--:--━━━━━━━━━━━━━━━━━━━━━━━━━━━━━━━━━━━━━━━━ 0.1/10.0 MB 3.6 MB/s eta 0:00:03━━╸━━━━━━━━━━━━━━━━━━━━━━━━━━━━━━━━━━━━━ 0.7/10.0 MB 10.1 MB/s eta 0:00:01━━━━━━━━━━━╺━━━━━━━━━━━━━━━━━━━━━━━━━━━━ 2.8/10.0 MB 27.6 MB/s eta 0:00:01━━━━━━━━━━━━━━━━━━━━━━━━━━━━━━━━━━━╺━━━━ 8.7/10.0 MB 63.8 MB/s eta 0:00:01━━━━━━━━━━━━━━━━━━━━━━━━━━━━━━━━━━━━━━━╸ 10.0/10.0 MB 69.2 MB/s eta 0:00:01━━━━━━━━━━━━━━━━━━━━━━━━━━━━━━━━━━━━━━━━ 10.0/10.0 MB 56.7 MB/s eta 0:00:00\n",
      "\u001b[?25hRequirement already satisfied: PyYAML>=3.13 in /home/b/b380001/freva/lib/python3.10/site-packages/PyYAML-6.0-py3.10-linux-x86_64.egg (from astropy->healpy) (6.0)\n",
      "Collecting astropy-iers-data>=0.2024.8.27.10.28.29\n",
      "  Downloading astropy_iers_data-0.2024.10.14.0.32.55-py3-none-any.whl (1.9 MB)\n",
      "     l     ━━━━━━━━━━━━━━━━━━━━━━━━━━━━━━━━━━━━━━━━ 0.0/1.9 MB ? eta -:--:--━━━━━━━━━━━━━━━━━━━━━━━━━━━━━━━━━━━━━━━━ 1.9/1.9 MB 127.6 MB/s eta 0:00:00\n",
      "\u001b[?25hRequirement already satisfied: packaging>=19.0 in /home/b/b380001/freva/lib/python3.10/site-packages (from astropy->healpy) (21.3)\n",
      "Collecting pyerfa>=2.0.1.1\n",
      "  Downloading pyerfa-2.0.1.4-cp39-abi3-manylinux_2_17_x86_64.manylinux2014_x86_64.whl (738 kB)\n",
      "     l     ━━━━━━━━━━━━━━━━━━━━━━━━━━━━━━━━━━━━━━━━ 0.0/738.7 kB ? eta -:--:--━━━━━━━━━━━━━━━━━━━━━━━━━━━━━━━━━━━━━━ 738.7/738.7 kB 81.0 MB/s eta 0:00:00\n",
      "\u001b[?25hRequirement already satisfied: pyparsing!=3.0.5,>=2.0.2 in /home/b/b380001/freva/lib/python3.10/site-packages (from packaging>=19.0->astropy->healpy) (3.0.9)\n",
      "Installing collected packages: pyerfa, astropy-iers-data, astropy\n",
      "  WARNING: The scripts fits2bitmap, fitscheck, fitsdiff, fitsheader, fitsinfo, samp_hub, showtable, volint and wcslint are installed in '/home/b/b382083/.local/bin' which is not on PATH.\n",
      "  Consider adding this directory to PATH or, if you prefer to suppress this warning, use --no-warn-script-location.\n",
      "Successfully installed astropy-6.1.4 astropy-iers-data-0.2024.10.14.0.32.55 pyerfa-2.0.1.4\n",
      "Note: you may need to restart the kernel to use updated packages.\n"
     ]
    }
   ],
   "source": [
    "import matplotlib.pylab as plt\n",
    "import numpy as np\n",
    "import matplotlib.cm as cm\n",
    "import intake\n",
    "\n",
    "import numcodecs\n",
    "try:\n",
    "    import gribscan\n",
    "except:\n",
    "    %pip install gribscan\n",
    "    import gribscan\n",
    "import cfgrib\n",
    "import gc\n",
    "\n",
    "from getpass import getuser # Libaray to copy things\n",
    "from pathlib import Path # Object oriented libary to deal with paths\n",
    "from dask.utils import format_bytes\n",
    "from dask.diagnostics import ProgressBar\n",
    "\n",
    "from distributed import Client, progress, wait # Libaray to orchestrate distributed resources\n",
    "#from dask_jobqueue import SLURMCluster # Setting up distributed memories via slurm\n",
    "import numpy as np # Pythons standard array library\n",
    "import xarray as xr # Libary to work with labeled n-dimensional data\n",
    "import dask # Distributed data libary\n",
    "import dask.distributed\n",
    "import multiprocessing\n",
    "from subprocess import run, PIPE\n",
    "import sys\n",
    "import os\n",
    "import warnings\n",
    "warnings.filterwarnings(action='ignore')\n",
    "dask.config.config.get('distributed').get('dashboard').update({'link':'{JUPYTERHUB_SERVICE_PREFIX}/proxy/{port}/status'})\n",
    "import pandas as pd\n",
    "import eccodes\n",
    "try:\n",
    "    import healpy\n",
    "except:\n",
    "    %pip install healpy\n",
    "\n",
    "import json\n",
    "import freva"
   ]
  },
  {
   "cell_type": "code",
   "execution_count": 13,
   "id": "3e4477bb-e19d-4674-b321-f4f31e8c2739",
   "metadata": {},
   "outputs": [],
   "source": [
    "#ERA5 dataset can be curated using this link: https://nextgems.dkrz.de/databrowser/\n",
    "#Will retrieve ERA5 precipitation from 1940-2024\n",
    "files = freva.databrowser(ensemble=\"r1i1p1\", experiment=\"era5\", institute=\"ecmwf\", model=\"ifs\", product=\"reanalysis\", project=\"reanalysis\", realm=\"atmos\", time_aggregation=\"mean\", time_frequency=\"1hr\", variable=\"pr\")"
   ]
  },
  {
   "cell_type": "code",
   "execution_count": 14,
   "id": "e949b5ed-b399-4644-befe-913f36532586",
   "metadata": {},
   "outputs": [],
   "source": [
    "dataset = xr.open_mfdataset(files, engine='netcdf4',combine='by_coords')\n"
   ]
  },
  {
   "cell_type": "code",
   "execution_count": 15,
   "id": "8395277a-fcc3-4a2d-ba36-a78e02a2efe7",
   "metadata": {},
   "outputs": [
    {
     "name": "stdout",
     "output_type": "stream",
     "text": [
      "<xarray.Dataset>\n",
      "Dimensions:   (time: 743153, lon: 1280, bnds: 2, lat: 640)\n",
      "Coordinates:\n",
      "  * time      (time) datetime64[ns] 1940-01-01T07:00:00 ... 2024-10-10T23:00:00\n",
      "  * lon       (lon) float64 0.0 0.2812 0.5625 0.8438 ... 358.9 359.2 359.4 359.7\n",
      "  * lat       (lat) float64 -89.78 -89.51 -89.23 -88.95 ... 89.23 89.51 89.78\n",
      "Dimensions without coordinates: bnds\n",
      "Data variables:\n",
      "    lon_bnds  (time, lon, bnds) float64 dask.array<chunksize=(738, 1280, 2), meta=np.ndarray>\n",
      "    lat_bnds  (time, lat, bnds) float64 dask.array<chunksize=(738, 640, 2), meta=np.ndarray>\n",
      "    pr        (time, lat, lon) float32 dask.array<chunksize=(738, 640, 1280), meta=np.ndarray>\n",
      "Attributes:\n",
      "    CDI:            Climate Data Interface version 1.9.6 (http://mpimet.mpg.d...\n",
      "    history:        Thu May 16 18:28:51 2024: cdo -s -z zip_9 -mergetime -sel...\n",
      "    institution:    European Centre for Medium-Range Weather Forecasts\n",
      "    Conventions:    CF-1.6\n",
      "    license:        Contains modified Copernicus Atmosphere Monitoring Servic...\n",
      "    tracking_id:    d5b13485-16f3-5f65-8dfd-cf03615bcc01\n",
      "    creation_date:  2024-05-16T18:22:46Z\n",
      "    CDO:            Climate Data Operators version 1.9.6 (http://mpimet.mpg.d...\n"
     ]
    }
   ],
   "source": [
    "print(dataset)"
   ]
  },
  {
   "cell_type": "code",
   "execution_count": null,
   "id": "c6e9473f-0c21-40da-9a82-81bc4a48fdfa",
   "metadata": {},
   "outputs": [],
   "source": []
  }
 ],
 "metadata": {
  "kernelspec": {
   "display_name": "freva",
   "language": "python",
   "name": "freva"
  },
  "language_info": {
   "codemirror_mode": {
    "name": "ipython",
    "version": 3
   },
   "file_extension": ".py",
   "mimetype": "text/x-python",
   "name": "python",
   "nbconvert_exporter": "python",
   "pygments_lexer": "ipython3",
   "version": "3.10.12"
  }
 },
 "nbformat": 4,
 "nbformat_minor": 5
}
